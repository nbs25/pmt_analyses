{
 "cells": [
  {
   "cell_type": "code",
   "execution_count": 1,
   "id": "e70d7030",
   "metadata": {},
   "outputs": [],
   "source": [
    "import numpy as np"
   ]
  },
  {
   "cell_type": "code",
   "execution_count": 9,
   "id": "47f4e17a",
   "metadata": {},
   "outputs": [],
   "source": [
    "def GetDirectionalUnitVector(xi,xf):\n",
    "    \n",
    "    assert len(xi) == 3\n",
    "    assert len(xi) == len(xf)\n",
    "  \n",
    "    xi = np.array(xi)\n",
    "    xf = np.array(xf)\n",
    "    \n",
    "    unit = (xf - xi) / np.sqrt(np.dot(xi,xf))\n",
    "    \n",
    "    assert len(unit) == 3\n",
    "    assert np.dot(unit,unit) == 1\n",
    "    \n",
    "    return unit\n",
    "\n",
    "def GetMomentumMagnitude(E,m):\n",
    "    \n",
    "    assert E > m\n",
    "    \n",
    "    p = np.sqrt(E*E-m*m)\n",
    "    \n",
    "    return p\n",
    "\n",
    "def GetMomentum(xi,xf,E,m):\n",
    "    \n",
    "    assert len(xi) == 3\n",
    "    assert len(xi) == len(xf)\n",
    "    \n",
    "    p = GetMomentumMagnitude(E,m) * GetDirectionalUnitVector(xi,xf)\n",
    "    \n",
    "    assert len(p) == 3\n",
    "    \n",
    "    return p\n",
    "\n",
    "def PrintHepevt_ParticleGun(_pdg, _xi, _xf, _E, _m):\n",
    "    \n",
    "    eventNumber = 0\n",
    "    Nparticles  = 1\n",
    "    \n",
    "    print(eventNumber, Nparticles)\n",
    "    \n",
    "    status_code = 1\n",
    "    pdg = _pdg\n",
    "    \n",
    "    mother1   = 0\n",
    "    mother2   = 0\n",
    "    daughter1 = 0\n",
    "    daughter1 = 0\n",
    "    \n",
    "    p = GetMomentum(_xi,_xf,_E,_m)\n",
    "    \n",
    "    px = p[0]\n",
    "    py = p[1]\n",
    "    pz = p[2]\n",
    "    \n",
    "    x = _xi[0]\n",
    "    y = _xi[1]\n",
    "    z = _xi[2]\n",
    "    \n",
    "    t = 0 # i think that this is actually important in this situation, but setting it to zero for the time being\n",
    "    \n",
    "    print(status_code, pdg, mother1, mother2, daughter1, daughter2, px, py, pz, _E, _m, x, y, z, t)"
   ]
  },
  {
   "cell_type": "code",
   "execution_count": 11,
   "id": "d7a1892a",
   "metadata": {},
   "outputs": [
    {
     "name": "stdout",
     "output_type": "stream",
     "text": [
      "execution complete\n"
     ]
    }
   ],
   "source": [
    "def main():\n",
    "    \n",
    "    E = 5.0 #choosing 5GeV for a default energy value in this study\n",
    "    m_mu = 0.106 # all units in GeV\n",
    "    \n",
    "    \n",
    "    \n",
    "    print(\"execution complete\")\n",
    "    \n",
    "main()"
   ]
  },
  {
   "cell_type": "code",
   "execution_count": null,
   "id": "a461472b",
   "metadata": {},
   "outputs": [],
   "source": []
  }
 ],
 "metadata": {
  "kernelspec": {
   "display_name": "Python 3 (ipykernel)",
   "language": "python",
   "name": "python3"
  },
  "language_info": {
   "codemirror_mode": {
    "name": "ipython",
    "version": 3
   },
   "file_extension": ".py",
   "mimetype": "text/x-python",
   "name": "python",
   "nbconvert_exporter": "python",
   "pygments_lexer": "ipython3",
   "version": "3.9.2"
  }
 },
 "nbformat": 4,
 "nbformat_minor": 5
}
